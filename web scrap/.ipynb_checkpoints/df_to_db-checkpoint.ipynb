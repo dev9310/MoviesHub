{
 "cells": [
  {
   "cell_type": "code",
   "execution_count": 1,
   "id": "6f7873f5-513c-47e0-b212-e58a7c2fcf1e",
   "metadata": {},
   "outputs": [],
   "source": [
    "import pandas as pd\n",
    "import sqlite3"
   ]
  },
  {
   "cell_type": "code",
   "execution_count": 2,
   "id": "d57cc317-81b0-4aef-9031-cfb4c281f8e6",
   "metadata": {},
   "outputs": [],
   "source": [
    "df = pd.read_csv('movie.csv')"
   ]
  },
  {
   "cell_type": "code",
   "execution_count": 3,
   "id": "e54418c6-ed6f-4cde-8bec-aa58f9c1d0d7",
   "metadata": {},
   "outputs": [
    {
     "data": {
      "text/plain": [
       "(3200, 13)"
      ]
     },
     "execution_count": 3,
     "metadata": {},
     "output_type": "execute_result"
    }
   ],
   "source": [
    "df.shape"
   ]
  },
  {
   "cell_type": "code",
   "execution_count": 4,
   "id": "d24a740e-d32c-4f6c-bc70-2c9d93b5d24b",
   "metadata": {},
   "outputs": [],
   "source": [
    "conn = sqlite3.connect('movies.db')"
   ]
  },
  {
   "cell_type": "code",
   "execution_count": 5,
   "id": "b4eeb664-46de-44c6-947c-8675665b72ca",
   "metadata": {},
   "outputs": [],
   "source": [
    "cursor = conn.cursor()"
   ]
  },
  {
   "cell_type": "code",
   "execution_count": 6,
   "id": "44488c21-25ba-45a4-84a8-fe8bb8f0c58e",
   "metadata": {},
   "outputs": [
    {
     "data": {
      "text/plain": [
       "3200"
      ]
     },
     "execution_count": 6,
     "metadata": {},
     "output_type": "execute_result"
    }
   ],
   "source": [
    "\n",
    "df.to_sql('movies',conn ,if_exists='replace',index=True)\n"
   ]
  },
  {
   "cell_type": "code",
   "execution_count": null,
   "id": "3b9e4502-a8fa-4064-891a-4db8d0675d38",
   "metadata": {},
   "outputs": [],
   "source": []
  },
  {
   "cell_type": "code",
   "execution_count": 49,
   "id": "190156a9-5ee5-4b58-97fa-588349c4ad4f",
   "metadata": {},
   "outputs": [
    {
     "data": {
      "text/plain": [
       "'thriller'"
      ]
     },
     "execution_count": 49,
     "metadata": {},
     "output_type": "execute_result"
    }
   ],
   "source": [
    "query = 'SELECT COUNT(*) FROM movies \"'\n",
    "res = pd.read_sql(query , conn)"
   ]
  },
  {
   "cell_type": "code",
   "execution_count": 34,
   "id": "938a0ac0-a9c5-44f3-8494-09abbb8bdcf0",
   "metadata": {},
   "outputs": [
    {
     "data": {
      "text/html": [
       "<div>\n",
       "<style scoped>\n",
       "    .dataframe tbody tr th:only-of-type {\n",
       "        vertical-align: middle;\n",
       "    }\n",
       "\n",
       "    .dataframe tbody tr th {\n",
       "        vertical-align: top;\n",
       "    }\n",
       "\n",
       "    .dataframe thead th {\n",
       "        text-align: right;\n",
       "    }\n",
       "</style>\n",
       "<table border=\"1\" class=\"dataframe\">\n",
       "  <thead>\n",
       "    <tr style=\"text-align: right;\">\n",
       "      <th></th>\n",
       "      <th>Title</th>\n",
       "      <th>Time</th>\n",
       "      <th>type</th>\n",
       "      <th>Duration</th>\n",
       "      <th>Link</th>\n",
       "    </tr>\n",
       "  </thead>\n",
       "  <tbody>\n",
       "    <tr>\n",
       "      <th>0</th>\n",
       "      <td>Dragons on the Hill</td>\n",
       "      <td>2024</td>\n",
       "      <td>Movie</td>\n",
       "      <td>80m</td>\n",
       "      <td>https://img.moviesjoy.is/resize/188x288/af/fb/...</td>\n",
       "    </tr>\n",
       "    <tr>\n",
       "      <th>1</th>\n",
       "      <td>The Woods Are Real</td>\n",
       "      <td>2024</td>\n",
       "      <td>Movie</td>\n",
       "      <td>80m</td>\n",
       "      <td>https://img.moviesjoy.is/resize/188x288/6f/d5/...</td>\n",
       "    </tr>\n",
       "    <tr>\n",
       "      <th>2</th>\n",
       "      <td>Dragons on the Hill</td>\n",
       "      <td>2024</td>\n",
       "      <td>Movie</td>\n",
       "      <td>80m</td>\n",
       "      <td>https://img.moviesjoy.is/resize/188x288/af/fb/...</td>\n",
       "    </tr>\n",
       "    <tr>\n",
       "      <th>3</th>\n",
       "      <td>The Woods Are Real</td>\n",
       "      <td>2024</td>\n",
       "      <td>Movie</td>\n",
       "      <td>80m</td>\n",
       "      <td>https://img.moviesjoy.is/resize/188x288/6f/d5/...</td>\n",
       "    </tr>\n",
       "    <tr>\n",
       "      <th>4</th>\n",
       "      <td>Gods of the Deep</td>\n",
       "      <td>2024</td>\n",
       "      <td>Movie</td>\n",
       "      <td>80m</td>\n",
       "      <td>https://img.moviesjoy.is/resize/188x288/78/56/...</td>\n",
       "    </tr>\n",
       "    <tr>\n",
       "      <th>...</th>\n",
       "      <td>...</td>\n",
       "      <td>...</td>\n",
       "      <td>...</td>\n",
       "      <td>...</td>\n",
       "      <td>...</td>\n",
       "    </tr>\n",
       "    <tr>\n",
       "      <th>824</th>\n",
       "      <td>Born2Race</td>\n",
       "      <td>0000</td>\n",
       "      <td>Movie</td>\n",
       "      <td>80m</td>\n",
       "      <td>https://img.moviesjoy.is/resize/188x288/72/51/...</td>\n",
       "    </tr>\n",
       "    <tr>\n",
       "      <th>825</th>\n",
       "      <td>Tainted Blood</td>\n",
       "      <td>0000</td>\n",
       "      <td>Movie</td>\n",
       "      <td>80m</td>\n",
       "      <td>https://img.moviesjoy.is/resize/188x288/25/a2/...</td>\n",
       "    </tr>\n",
       "    <tr>\n",
       "      <th>826</th>\n",
       "      <td>Free Lunch Express</td>\n",
       "      <td>0000</td>\n",
       "      <td>Movie</td>\n",
       "      <td>80m</td>\n",
       "      <td>https://img.moviesjoy.is/resize/188x288/3d/60/...</td>\n",
       "    </tr>\n",
       "    <tr>\n",
       "      <th>827</th>\n",
       "      <td>No Way Out</td>\n",
       "      <td>0000</td>\n",
       "      <td>Movie</td>\n",
       "      <td>80m</td>\n",
       "      <td>https://img.moviesjoy.is/resize/188x288/c0/d5/...</td>\n",
       "    </tr>\n",
       "    <tr>\n",
       "      <th>828</th>\n",
       "      <td>Shakespeare School Year</td>\n",
       "      <td>0000</td>\n",
       "      <td>Movie</td>\n",
       "      <td>80m</td>\n",
       "      <td>https://img.moviesjoy.is/resize/188x288/c9/3e/...</td>\n",
       "    </tr>\n",
       "  </tbody>\n",
       "</table>\n",
       "<p>829 rows × 5 columns</p>\n",
       "</div>"
      ],
      "text/plain": [
       "                       Title  Time   type Duration  \\\n",
       "0        Dragons on the Hill  2024  Movie      80m   \n",
       "1         The Woods Are Real  2024  Movie      80m   \n",
       "2        Dragons on the Hill  2024  Movie      80m   \n",
       "3         The Woods Are Real  2024  Movie      80m   \n",
       "4           Gods of the Deep  2024  Movie      80m   \n",
       "..                       ...   ...    ...      ...   \n",
       "824                Born2Race  0000  Movie      80m   \n",
       "825            Tainted Blood  0000  Movie      80m   \n",
       "826       Free Lunch Express  0000  Movie      80m   \n",
       "827               No Way Out  0000  Movie      80m   \n",
       "828  Shakespeare School Year  0000  Movie      80m   \n",
       "\n",
       "                                                  Link  \n",
       "0    https://img.moviesjoy.is/resize/188x288/af/fb/...  \n",
       "1    https://img.moviesjoy.is/resize/188x288/6f/d5/...  \n",
       "2    https://img.moviesjoy.is/resize/188x288/af/fb/...  \n",
       "3    https://img.moviesjoy.is/resize/188x288/6f/d5/...  \n",
       "4    https://img.moviesjoy.is/resize/188x288/78/56/...  \n",
       "..                                                 ...  \n",
       "824  https://img.moviesjoy.is/resize/188x288/72/51/...  \n",
       "825  https://img.moviesjoy.is/resize/188x288/25/a2/...  \n",
       "826  https://img.moviesjoy.is/resize/188x288/3d/60/...  \n",
       "827  https://img.moviesjoy.is/resize/188x288/c0/d5/...  \n",
       "828  https://img.moviesjoy.is/resize/188x288/c9/3e/...  \n",
       "\n",
       "[829 rows x 5 columns]"
      ]
     },
     "execution_count": 34,
     "metadata": {},
     "output_type": "execute_result"
    }
   ],
   "source": [
    "res"
   ]
  },
  {
   "cell_type": "code",
   "execution_count": 7,
   "id": "1dbfe534-7151-4e2c-93fe-63ef6816fae1",
   "metadata": {},
   "outputs": [],
   "source": [
    "conn.close()"
   ]
  },
  {
   "cell_type": "code",
   "execution_count": 3,
   "id": "c81ea8b9-c09e-47fa-9499-81689402f628",
   "metadata": {},
   "outputs": [],
   "source": [
    "\n",
    "import pandas as pd\n",
    "columns = ['Title' ,'Time' ,'Type', 'Duration', 'Link' ,'movieDesc', 'Released' ,'Genre' ,'Casts' ,'Country', 'Production' ,'IMDB_rating']\n",
    "# pair = [pair for pair in zip(Title ,Time ,Type ,Duration, Link ,movieDesc ,Released ,Genre ,Casts, Country ,Production ,IMDB_rating)]\n",
    "df = pd.DataFrame( columns=columns )\n",
    "\n"
   ]
  },
  {
   "cell_type": "code",
   "execution_count": 4,
   "id": "cec10f4c-f86a-45f9-b3a6-8a7eca85812c",
   "metadata": {},
   "outputs": [
    {
     "data": {
      "text/html": [
       "<div>\n",
       "<style scoped>\n",
       "    .dataframe tbody tr th:only-of-type {\n",
       "        vertical-align: middle;\n",
       "    }\n",
       "\n",
       "    .dataframe tbody tr th {\n",
       "        vertical-align: top;\n",
       "    }\n",
       "\n",
       "    .dataframe thead th {\n",
       "        text-align: right;\n",
       "    }\n",
       "</style>\n",
       "<table border=\"1\" class=\"dataframe\">\n",
       "  <thead>\n",
       "    <tr style=\"text-align: right;\">\n",
       "      <th></th>\n",
       "      <th>Title</th>\n",
       "      <th>Time</th>\n",
       "      <th>Type</th>\n",
       "      <th>Duration</th>\n",
       "      <th>Link</th>\n",
       "      <th>movieDesc</th>\n",
       "      <th>Released</th>\n",
       "      <th>Genre</th>\n",
       "      <th>Casts</th>\n",
       "      <th>Country</th>\n",
       "      <th>Production</th>\n",
       "      <th>IMDB_rating</th>\n",
       "    </tr>\n",
       "  </thead>\n",
       "  <tbody>\n",
       "  </tbody>\n",
       "</table>\n",
       "</div>"
      ],
      "text/plain": [
       "Empty DataFrame\n",
       "Columns: [Title, Time, Type, Duration, Link, movieDesc, Released, Genre, Casts, Country, Production, IMDB_rating]\n",
       "Index: []"
      ]
     },
     "execution_count": 4,
     "metadata": {},
     "output_type": "execute_result"
    }
   ],
   "source": [
    "df"
   ]
  },
  {
   "cell_type": "code",
   "execution_count": null,
   "id": "2752bb99-f51e-4d6f-a23a-c7391a2ba3b6",
   "metadata": {},
   "outputs": [],
   "source": []
  },
  {
   "cell_type": "code",
   "execution_count": 1,
   "id": "2312634e-6dac-49c9-a685-ea792476ee7e",
   "metadata": {},
   "outputs": [],
   "source": []
  },
  {
   "cell_type": "code",
   "execution_count": 8,
   "id": "69e69d6e-5cdb-4a5d-963d-4c93b73d7170",
   "metadata": {},
   "outputs": [
    {
     "name": "stdout",
     "output_type": "stream",
     "text": [
      "________________________________\n",
      "________________________________\n",
      "________________________________\n",
      "________________________________\n",
      "________________________________\n",
      "16.069681644439697sec\n"
     ]
    }
   ],
   "source": [
    "import time\n",
    "start = time.time()\n",
    "for i in range(5):\n",
    "    for j in range(32):\n",
    "        time.sleep(0.1)\n",
    "        print(\"_\",end=\"\" )\n",
    "        \n",
    "    end = time.time()\n",
    "    print()\n",
    "    \n",
    "print(f\"{(end - start)}sec\")\n",
    "        \n"
   ]
  },
  {
   "cell_type": "code",
   "execution_count": null,
   "id": "7ce3daf9-ad5f-4194-96fa-f0e66840539d",
   "metadata": {},
   "outputs": [],
   "source": []
  },
  {
   "cell_type": "code",
   "execution_count": null,
   "id": "1194d6de-aa33-442a-abe2-7690d081b649",
   "metadata": {},
   "outputs": [],
   "source": []
  }
 ],
 "metadata": {
  "kernelspec": {
   "display_name": "Python 3 (ipykernel)",
   "language": "python",
   "name": "python3"
  },
  "language_info": {
   "codemirror_mode": {
    "name": "ipython",
    "version": 3
   },
   "file_extension": ".py",
   "mimetype": "text/x-python",
   "name": "python",
   "nbconvert_exporter": "python",
   "pygments_lexer": "ipython3",
   "version": "3.11.4"
  },
  "widgets": {
   "application/vnd.jupyter.widget-state+json": {
    "state": {},
    "version_major": 2,
    "version_minor": 0
   }
  }
 },
 "nbformat": 4,
 "nbformat_minor": 5
}
