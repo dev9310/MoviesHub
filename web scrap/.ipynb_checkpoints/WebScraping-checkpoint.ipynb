{
 "cells": [
  {
   "cell_type": "code",
   "execution_count": 1,
   "id": "50c482cc-e910-4ea9-bcb8-2a489304b03d",
   "metadata": {},
   "outputs": [],
   "source": [
    "from bs4 import BeautifulSoup\n",
    "import pandas as pd\n",
    "import requests\n",
    "import re"
   ]
  },
  {
   "cell_type": "code",
   "execution_count": 5,
   "id": "828e21d5-f2cf-4644-a7b8-bb12774fe6a5",
   "metadata": {},
   "outputs": [],
   "source": []
  },
  {
   "cell_type": "code",
   "execution_count": null,
   "id": "7995c4b2-dd67-4339-af1a-b691bc2df81e",
   "metadata": {
    "scrolled": true
   },
   "outputs": [
    {
     "name": "stdout",
     "output_type": "stream",
     "text": [
      "\n",
      "Pass 701  : ________________________________\n",
      "Pass 702  : ________________________________\n",
      "Pass 703  : ________________________________\n",
      "Pass 704  : ________________________________\n",
      "Pass 705  : ________________________________\n",
      "Pass 706  : ________________________________\n",
      "Pass 707  : ________________________________\n",
      "Pass 708  : ________________________________\n",
      "Pass 709  : ________________________________\n",
      "Pass 710  : ________________________________\n",
      "Pass 711  : ________________________________\n",
      "Pass 712  : ________________________________\n",
      "Pass 713  : ________________________________\n",
      "Pass 714  : ________________________________\n",
      "Pass 715  : ________________________________\n",
      "Pass 716  : ______________________________"
     ]
    }
   ],
   "source": [
    "# 700 completed\n",
    "Title=[]\n",
    "Time = []\n",
    "Type = []\n",
    "Duration =[]\n",
    "Link = []\n",
    "\n",
    "movieDesc =[]\n",
    "Released =[]\n",
    "Genre = []\n",
    "Casts = []\n",
    "Country = []\n",
    "Production=[]\n",
    "IMDB_rating = []\n",
    "\n",
    "\n",
    "type = \"movie\"\n",
    "quality = \"all\"\n",
    "year = \"all\"\n",
    "country = \"all\"\n",
    "genre =\"all\"\n",
    "\n",
    "headers = {'User-Agent': 'Mozilla/5.0 (Windows NT 10.0; Win64; x64) AppleWebKit/537.36 (KHTML, like Gecko) Chrome/111.0.0.0 Safari/537.36'}\n",
    "\n",
    "# 700 , 800 Done\n",
    "for i in range(700 , 800): # 1340 movie , 1785 all\n",
    "\n",
    "    url = f\"https://moviesjoy.is/filter?type={type}&quality={quality}&release_year={year}&genre={genre}&country={country}&page={i+1}\"\n",
    "    webpage=requests.get(url, headers=headers).text\n",
    "    print(\"\\nPass\",i+1,' :' ,end=' ')\n",
    "    \n",
    "    soup= BeautifulSoup(webpage , 'lxml')\n",
    "    \n",
    "    movie = soup.find_all('div' , class_='flw-item')\n",
    "    \n",
    "    for i in movie:\n",
    "        \n",
    "        try:\n",
    "            moviePage=requests.get(Movi_Url, headers=headers).text\n",
    "            soup1 = BeautifulSoup(moviePage , 'lxml')\n",
    "        except:\n",
    "            continue\n",
    "        \n",
    "        Title.append(i.find('a').get('title'))\n",
    "        Time.append(i.find(class_='fdi-item').text.strip())\n",
    "        Type.append(i.find(class_='fdi-type').text.strip())\n",
    "        Duration.append(i.find(class_='fdi-duration').text.strip())\n",
    "        Link.append(i.find('div', class_='film-poster').find('img').get('data-src'))\n",
    "        Movie_Link =(i.find('a').get('href'))\n",
    "        Movi_Url=(f\"https://moviesjoy.is{Movie_Link}\") \n",
    "        \n",
    "        \n",
    "        try:\n",
    "            movieDesc.append(soup1.find('div' , class_='description').text.strip())        \n",
    "        except:\n",
    "            movieDesc.append(\"Na\")\n",
    "        \n",
    "        data_div = str(soup1.find_all('div' ,class_='row-line'))\n",
    "        \n",
    "        try:\n",
    "            IMDB_rating.append(re.split('IMDB:',soup1.find('button',class_='btn-imdb').text)[1].strip(' '))\n",
    "        except:\n",
    "            IMDB_rating.append(\"Na\")\n",
    "        \n",
    "        try:\n",
    "            Genre.append(re.findall('genre/([^\"]+)' ,data_div))        \n",
    "        except:\n",
    "            Genre.append(\"Na\")\n",
    "        \n",
    "        try:\n",
    "            Casts.append(re.findall('cast/([^\"]+)' ,data_div))        \n",
    "        except:\n",
    "            Casts.append(\"Na\")\n",
    "        \n",
    "        try:\n",
    "            Released.append(re.split('Released:\\s</strong></span>([^<]+)' ,str(data_div))[1].strip(\" \").strip('\\n'))\n",
    "        except:\n",
    "            Released.append('Na')\n",
    "        \n",
    "        try:\n",
    "            Production.append(re.findall('/production/([^\"]+)',data_div)) \n",
    "        except: \n",
    "            Production.append('Na')\n",
    "            \n",
    "        \n",
    "        try:\n",
    "            Country.append(re.split('/country/([^\"]+)',data_div)[1])\n",
    "        except:\n",
    "            Country.append(\"Na\")\n",
    "        \n",
    "        print(\"_\",end='')\n",
    "            "
   ]
  },
  {
   "cell_type": "code",
   "execution_count": 6,
   "id": "5caea2b8-d359-4cc1-a066-b123ef199bd2",
   "metadata": {},
   "outputs": [
    {
     "data": {
      "text/plain": [
       "(3199, 12)"
      ]
     },
     "execution_count": 6,
     "metadata": {},
     "output_type": "execute_result"
    }
   ],
   "source": [
    "columns = ['Title' ,'Time' ,'Type', 'Duration', 'Link' ,'movieDesc', 'Released' ,'Genre' ,'Casts' ,'Country', 'Production' ,'IMDB_rating']\n",
    "pair = [pair for pair in zip(Title ,Time ,Type ,Duration, Link ,movieDesc ,Released ,Genre ,Casts, Country ,Production ,IMDB_rating)]\n",
    "new_df = pd.DataFrame(pair, columns=columns )\n",
    "new_df.shape\n"
   ]
  },
  {
   "cell_type": "code",
   "execution_count": null,
   "id": "7922eb87-26ca-4754-8a1a-ddcaed6190ad",
   "metadata": {},
   "outputs": [],
   "source": []
  },
  {
   "cell_type": "code",
   "execution_count": 8,
   "id": "1e02ac1d-16cc-470f-95f0-6701a0c86f9b",
   "metadata": {},
   "outputs": [
    {
     "name": "stdout",
     "output_type": "stream",
     "text": [
      "3200 3200 3200 3200 3200\n"
     ]
    }
   ],
   "source": [
    "print(len(Title),len(Time),len(Type),len(Duration),len(Link))\n"
   ]
  },
  {
   "cell_type": "code",
   "execution_count": 38,
   "id": "f8782890-2074-4397-9446-cdef1d5a4bed",
   "metadata": {
    "scrolled": true
   },
   "outputs": [],
   "source": [
    "# len(Country) "
   ]
  },
  {
   "cell_type": "code",
   "execution_count": 9,
   "id": "035ebb40-b14c-4ec5-8a09-6b03587ffc80",
   "metadata": {},
   "outputs": [
    {
     "data": {
      "text/plain": [
       "3199"
      ]
     },
     "execution_count": 9,
     "metadata": {},
     "output_type": "execute_result"
    }
   ],
   "source": [
    "len(movieDesc)"
   ]
  },
  {
   "cell_type": "code",
   "execution_count": 13,
   "id": "445b310d-1320-4a60-ba20-6a2d110afebe",
   "metadata": {},
   "outputs": [
    {
     "data": {
      "text/plain": [
       "Title                                          Post Tenebras Lux\n",
       "Time                                                        2012\n",
       "Type                                                       Movie\n",
       "Duration                                                    115m\n",
       "Link           https://img.moviesjoy.is/resize/188x288/e8/1a/...\n",
       "movieDesc      An town in Washington state adheres to the sur...\n",
       "Released                                              2012-11-21\n",
       "Genre                   [thriller, science-fiction, war, action]\n",
       "Casts          [josh-peck, josh-hutcherson, courtney-parkinso...\n",
       "Country                                                       us\n",
       "Production     [metro-goldwyn-mayer, united-artists, filmnati...\n",
       "IMDB_rating                                                  5.3\n",
       "Name: 1199, dtype: object"
      ]
     },
     "execution_count": 13,
     "metadata": {},
     "output_type": "execute_result"
    }
   ],
   "source": [
    "# !pip install pycountry\n",
    "# import pycountry\n",
    "# cont = pycountry.countries.get(alpha_2='ph'.upper())\n",
    "# cont.name\n",
    "new_df.iloc[1199]\n"
   ]
  },
  {
   "cell_type": "code",
   "execution_count": 14,
   "id": "6451291d-b829-43f5-9ef2-640c9f364571",
   "metadata": {
    "scrolled": true
   },
   "outputs": [
    {
     "data": {
      "text/plain": [
       "Title                                                   Red Dawn\n",
       "Time                                                        2012\n",
       "Type                                                       Movie\n",
       "Duration                                                     93m\n",
       "Link           https://img.moviesjoy.is/resize/188x288/3e/c8/...\n",
       "movieDesc      Guns N' Roses live at The Joint at the Hard Ro...\n",
       "Released                                              2012-11-21\n",
       "Genre                                                    [music]\n",
       "Casts          [w-axl-rose, tommy-stinson, ron-bumblefoot-tha...\n",
       "Country                                                       us\n",
       "Production                                     [rock-fuel-media]\n",
       "IMDB_rating                                                  7.6\n",
       "Name: 1200, dtype: object"
      ]
     },
     "execution_count": 14,
     "metadata": {},
     "output_type": "execute_result"
    }
   ],
   "source": [
    "new_df.iloc[1200]\n",
    "# new_df.iloc[-1344]"
   ]
  },
  {
   "cell_type": "code",
   "execution_count": 49,
   "id": "b9fcf87c-230e-427d-b330-18bc02c658e2",
   "metadata": {},
   "outputs": [],
   "source": [
    "# new_df.to_csv(\"all_movie_data.csv\",index=False, header=False , mode='a')\n",
    "# print(\"CSV file created successfully!\")\n"
   ]
  },
  {
   "cell_type": "code",
   "execution_count": 50,
   "id": "5e147e51-42d2-4b60-a2b0-7c93ea1c2b14",
   "metadata": {},
   "outputs": [],
   "source": [
    "# movieDesc"
   ]
  },
  {
   "cell_type": "code",
   "execution_count": null,
   "id": "68e24328-aed9-4f43-8863-5d4ac12421ce",
   "metadata": {},
   "outputs": [],
   "source": []
  },
  {
   "cell_type": "code",
   "execution_count": null,
   "id": "c315b986-70ec-4e97-8005-e4593240d125",
   "metadata": {},
   "outputs": [],
   "source": [
    "import pandas as pd \n",
    "\n",
    "old_df = pd.read_csv(\"all_movie_data.csv\")\n",
    "old_df.shape"
   ]
  },
  {
   "cell_type": "code",
   "execution_count": 54,
   "id": "7460b1f9-af62-4cbd-bd87-07f9ba93ff36",
   "metadata": {},
   "outputs": [],
   "source": [
    "# df  =old_df.iloc[:22394]\n",
    "# df.to_csv(\"all_movie_data.csv\",index=False)"
   ]
  },
  {
   "cell_type": "code",
   "execution_count": 53,
   "id": "4319811f-8ee0-41f6-9613-db3825882575",
   "metadata": {},
   "outputs": [],
   "source": [
    "# old_df.shape\n",
    "\n",
    "# df.to_csv('1_700_movie.csv')"
   ]
  },
  {
   "cell_type": "code",
   "execution_count": 51,
   "id": "3a8ec8e7-a5f8-4760-80e0-97e111e03112",
   "metadata": {},
   "outputs": [
    {
     "data": {
      "text/html": [
       "<div>\n",
       "<style scoped>\n",
       "    .dataframe tbody tr th:only-of-type {\n",
       "        vertical-align: middle;\n",
       "    }\n",
       "\n",
       "    .dataframe tbody tr th {\n",
       "        vertical-align: top;\n",
       "    }\n",
       "\n",
       "    .dataframe thead th {\n",
       "        text-align: right;\n",
       "    }\n",
       "</style>\n",
       "<table border=\"1\" class=\"dataframe\">\n",
       "  <thead>\n",
       "    <tr style=\"text-align: right;\">\n",
       "      <th></th>\n",
       "      <th>Title</th>\n",
       "      <th>Time</th>\n",
       "      <th>Type</th>\n",
       "      <th>Duration</th>\n",
       "      <th>Link</th>\n",
       "      <th>movieDesc</th>\n",
       "      <th>Released</th>\n",
       "      <th>Genre</th>\n",
       "      <th>Casts</th>\n",
       "      <th>Country</th>\n",
       "      <th>Production</th>\n",
       "      <th>IMDB_rating</th>\n",
       "    </tr>\n",
       "  </thead>\n",
       "  <tbody>\n",
       "    <tr>\n",
       "      <th>22394</th>\n",
       "      <td>Charlie Charlie</td>\n",
       "      <td>2016</td>\n",
       "      <td>Movie</td>\n",
       "      <td>85m</td>\n",
       "      <td>https://img.moviesjoy.is/resize/188x288/74/d7/...</td>\n",
       "      <td>An Eccentric haunted home proprietor asks a se...</td>\n",
       "      <td>2016-01-01</td>\n",
       "      <td>['horror']</td>\n",
       "      <td>['bryan-massey', 'gwendolynn-murphy', 'cody-be...</td>\n",
       "      <td>us</td>\n",
       "      <td>['eurovideo-medien-gmbh']</td>\n",
       "      <td>2.3</td>\n",
       "    </tr>\n",
       "  </tbody>\n",
       "</table>\n",
       "</div>"
      ],
      "text/plain": [
       "                 Title  Time   Type Duration  \\\n",
       "22394  Charlie Charlie  2016  Movie      85m   \n",
       "\n",
       "                                                    Link  \\\n",
       "22394  https://img.moviesjoy.is/resize/188x288/74/d7/...   \n",
       "\n",
       "                                               movieDesc    Released  \\\n",
       "22394  An Eccentric haunted home proprietor asks a se...  2016-01-01   \n",
       "\n",
       "            Genre                                              Casts Country  \\\n",
       "22394  ['horror']  ['bryan-massey', 'gwendolynn-murphy', 'cody-be...      us   \n",
       "\n",
       "                      Production IMDB_rating  \n",
       "22394  ['eurovideo-medien-gmbh']         2.3  "
      ]
     },
     "execution_count": 51,
     "metadata": {},
     "output_type": "execute_result"
    }
   ],
   "source": [
    "old_df[old_df.Title=='Charlie Charlie']\n"
   ]
  },
  {
   "cell_type": "code",
   "execution_count": null,
   "id": "98ee55f6-9608-417e-9cf5-a989b99f430a",
   "metadata": {},
   "outputs": [],
   "source": [
    "\n"
   ]
  },
  {
   "cell_type": "code",
   "execution_count": null,
   "id": "a09199f5-431b-4a30-b8fb-41f052091425",
   "metadata": {},
   "outputs": [],
   "source": []
  }
 ],
 "metadata": {
  "kernelspec": {
   "display_name": "Python 3 (ipykernel)",
   "language": "python",
   "name": "python3"
  },
  "language_info": {
   "codemirror_mode": {
    "name": "ipython",
    "version": 3
   },
   "file_extension": ".py",
   "mimetype": "text/x-python",
   "name": "python",
   "nbconvert_exporter": "python",
   "pygments_lexer": "ipython3",
   "version": "3.11.4"
  },
  "widgets": {
   "application/vnd.jupyter.widget-state+json": {
    "state": {},
    "version_major": 2,
    "version_minor": 0
   }
  }
 },
 "nbformat": 4,
 "nbformat_minor": 5
}
