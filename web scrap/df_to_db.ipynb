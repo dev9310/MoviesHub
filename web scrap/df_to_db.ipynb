{
 "cells": [
  {
   "cell_type": "code",
   "execution_count": 1,
   "id": "6f7873f5-513c-47e0-b212-e58a7c2fcf1e",
   "metadata": {},
   "outputs": [],
   "source": [
    "import pandas as pd\n",
    "import sqlite3"
   ]
  },
  {
   "cell_type": "code",
   "execution_count": 2,
   "id": "d57cc317-81b0-4aef-9031-cfb4c281f8e6",
   "metadata": {},
   "outputs": [],
   "source": [
    "df = pd.read_csv('movie.csv')"
   ]
  },
  {
   "cell_type": "code",
   "execution_count": 3,
   "id": "e54418c6-ed6f-4cde-8bec-aa58f9c1d0d7",
   "metadata": {},
   "outputs": [
    {
     "data": {
      "text/plain": [
       "(9599, 14)"
      ]
     },
     "execution_count": 3,
     "metadata": {},
     "output_type": "execute_result"
    }
   ],
   "source": [
    "df.shape"
   ]
  },
  {
   "cell_type": "code",
   "execution_count": 18,
   "id": "d24a740e-d32c-4f6c-bc70-2c9d93b5d24b",
   "metadata": {},
   "outputs": [],
   "source": [
    "conn = sqlite3.connect('movies.db')"
   ]
  },
  {
   "cell_type": "code",
   "execution_count": 19,
   "id": "b4eeb664-46de-44c6-947c-8675665b72ca",
   "metadata": {},
   "outputs": [],
   "source": [
    "cursor = conn.cursor()"
   ]
  },
  {
   "cell_type": "code",
   "execution_count": 20,
   "id": "44488c21-25ba-45a4-84a8-fe8bb8f0c58e",
   "metadata": {},
   "outputs": [
    {
     "data": {
      "text/plain": [
       "9599"
      ]
     },
     "execution_count": 20,
     "metadata": {},
     "output_type": "execute_result"
    }
   ],
   "source": [
    "\n",
    "df.to_sql('movies',conn ,if_exists='replace')\n"
   ]
  },
  {
   "cell_type": "code",
   "execution_count": 21,
   "id": "1dbfe534-7151-4e2c-93fe-63ef6816fae1",
   "metadata": {},
   "outputs": [],
   "source": [
    "conn.close()"
   ]
  },
  {
   "cell_type": "code",
   "execution_count": 5,
   "id": "1194d6de-aa33-442a-abe2-7690d081b649",
   "metadata": {},
   "outputs": [
    {
     "data": {
      "text/plain": [
       "\"['horror', 'thriller', 'crime']\""
      ]
     },
     "execution_count": 5,
     "metadata": {},
     "output_type": "execute_result"
    }
   ],
   "source": [
    "\n",
    "df.Genre"
   ]
  },
  {
   "cell_type": "code",
   "execution_count": null,
   "id": "db529ac1-f05e-43dc-b985-d4f2a008d258",
   "metadata": {},
   "outputs": [],
   "source": []
  },
  {
   "cell_type": "code",
   "execution_count": 6,
   "id": "d7b4c843-c832-4342-a82a-d2202b819e1f",
   "metadata": {},
   "outputs": [],
   "source": [
    "\n",
    "conn = sqlite3.connect('movies.db')\n",
    "cursor = conn.cursor()\n",
    "\n",
    "df = pd.read_sql('SELECT * FROM movies', conn)\n"
   ]
  },
  {
   "cell_type": "code",
   "execution_count": 9,
   "id": "080018da-3f5e-4461-9afc-b5583af2db94",
   "metadata": {},
   "outputs": [],
   "source": [
    "df.to_csv('9k_movies.csv',index=False)"
   ]
  },
  {
   "cell_type": "code",
   "execution_count": null,
   "id": "f8ecaefe-de65-4cc0-ab70-8a1a3a2c1f9d",
   "metadata": {},
   "outputs": [],
   "source": []
  }
 ],
 "metadata": {
  "kernelspec": {
   "display_name": "Python 3 (ipykernel)",
   "language": "python",
   "name": "python3"
  },
  "language_info": {
   "codemirror_mode": {
    "name": "ipython",
    "version": 3
   },
   "file_extension": ".py",
   "mimetype": "text/x-python",
   "name": "python",
   "nbconvert_exporter": "python",
   "pygments_lexer": "ipython3",
   "version": "3.11.4"
  },
  "widgets": {
   "application/vnd.jupyter.widget-state+json": {
    "state": {},
    "version_major": 2,
    "version_minor": 0
   }
  }
 },
 "nbformat": 4,
 "nbformat_minor": 5
}
